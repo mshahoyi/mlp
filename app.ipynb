{
 "cells": [
  {
   "cell_type": "markdown",
   "metadata": {},
   "source": [
    "# Get data"
   ]
  },
  {
   "cell_type": "code",
   "execution_count": 1,
   "metadata": {},
   "outputs": [],
   "source": [
    "import torch, numpy as np, matplotlib.pyplot as plt, seaborn as sns"
   ]
  },
  {
   "cell_type": "code",
   "execution_count": 2,
   "metadata": {},
   "outputs": [
    {
     "data": {
      "text/plain": [
       "['emma', 'olivia', 'ava', 'isabella', 'sophia']"
      ]
     },
     "execution_count": 2,
     "metadata": {},
     "output_type": "execute_result"
    }
   ],
   "source": [
    "names = open(\"names.txt\").read().splitlines()\n",
    "names[:5]"
   ]
  },
  {
   "cell_type": "markdown",
   "metadata": {},
   "source": [
    "# Create dataset"
   ]
  },
  {
   "cell_type": "code",
   "execution_count": 3,
   "metadata": {},
   "outputs": [],
   "source": [
    "context = 3"
   ]
  },
  {
   "cell_type": "code",
   "execution_count": 4,
   "metadata": {},
   "outputs": [
    {
     "data": {
      "text/plain": [
       "[(('.', '.', '.'), 'e'),\n",
       " (('.', '.', 'e'), 'm'),\n",
       " (('.', 'e', 'm'), 'm'),\n",
       " (('e', 'm', 'm'), 'a'),\n",
       " (('m', 'm', 'a'), '.'),\n",
       " (('.', '.', '.'), 'o'),\n",
       " (('.', '.', 'o'), 'l'),\n",
       " (('.', 'o', 'l'), 'i'),\n",
       " (('o', 'l', 'i'), 'v'),\n",
       " (('l', 'i', 'v'), 'i'),\n",
       " (('i', 'v', 'i'), 'a'),\n",
       " (('v', 'i', 'a'), '.'),\n",
       " (('.', '.', '.'), 'a'),\n",
       " (('.', '.', 'a'), 'v'),\n",
       " (('.', 'a', 'v'), 'a')]"
      ]
     },
     "execution_count": 4,
     "metadata": {},
     "output_type": "execute_result"
    }
   ],
   "source": [
    "import pdb\n",
    "\n",
    "ds = []\n",
    "for name in names:\n",
    "    n = '.'*context + name + '.'\n",
    "    tuples = list(zip(*list(n[i:] for i in range(context + 1))))\n",
    "    ds.extend(list(map(lambda tup: (tup[0:context], tup[context]), tuples)))\n",
    "\n",
    "ds[:15]"
   ]
  },
  {
   "cell_type": "markdown",
   "metadata": {},
   "source": [
    "# Vocab"
   ]
  },
  {
   "cell_type": "code",
   "execution_count": 42,
   "metadata": {},
   "outputs": [
    {
     "data": {
      "text/plain": [
       "['.',\n",
       " 'a',\n",
       " 'b',\n",
       " 'c',\n",
       " 'd',\n",
       " 'e',\n",
       " 'f',\n",
       " 'g',\n",
       " 'h',\n",
       " 'i',\n",
       " 'j',\n",
       " 'k',\n",
       " 'l',\n",
       " 'm',\n",
       " 'n',\n",
       " 'o',\n",
       " 'p',\n",
       " 'q',\n",
       " 'r',\n",
       " 's',\n",
       " 't',\n",
       " 'u',\n",
       " 'v',\n",
       " 'w',\n",
       " 'x',\n",
       " 'y',\n",
       " 'z']"
      ]
     },
     "execution_count": 42,
     "metadata": {},
     "output_type": "execute_result"
    }
   ],
   "source": [
    "vocab = sorted(set('.'.join(names)))\n",
    "vocab"
   ]
  },
  {
   "cell_type": "code",
   "execution_count": 43,
   "metadata": {},
   "outputs": [],
   "source": [
    "ctoi = {c: i for i, c in enumerate(vocab)}\n",
    "itoc = {i: c for c, i in ctoi.items() }"
   ]
  },
  {
   "cell_type": "markdown",
   "metadata": {},
   "source": [
    "# Embedding"
   ]
  },
  {
   "cell_type": "code",
   "execution_count": 196,
   "metadata": {},
   "outputs": [
    {
     "data": {
      "text/plain": [
       "torch.Size([27, 2])"
      ]
     },
     "execution_count": 196,
     "metadata": {},
     "output_type": "execute_result"
    }
   ],
   "source": [
    "emb_dims = 2\n",
    "E = torch.randn(len(vocab), emb_dims)\n",
    "E.shape"
   ]
  },
  {
   "cell_type": "code",
   "execution_count": 197,
   "metadata": {},
   "outputs": [
    {
     "data": {
      "text/plain": [
       "(torch.Size([27]), torch.Size([27]))"
      ]
     },
     "execution_count": 197,
     "metadata": {},
     "output_type": "execute_result"
    }
   ],
   "source": [
    "E[:, 0].shape, E[:, 1].shape"
   ]
  },
  {
   "cell_type": "code",
   "execution_count": 198,
   "metadata": {},
   "outputs": [
    {
     "data": {
      "image/png": "[encoded data removed]",
      "text/plain": [
       "<Figure size 640x480 with 1 Axes>"
      ]
     },
     "metadata": {},
     "output_type": "display_data"
    }
   ],
   "source": [
    "plt.scatter(E[:, 0], E[:, 1], s=200, alpha=0.8)\n",
    "\n",
    "for char in vocab:\n",
    "    i = ctoi[char]\n",
    "    plt.text(E[i, 0], E[i, 1], char, va=\"center\", ha=\"center\", color=\"white\")"
   ]
  },
  {
   "cell_type": "code",
   "execution_count": 199,
   "metadata": {},
   "outputs": [
    {
     "data": {
      "text/plain": [
       "tensor([[ 0,  0,  0,  5],\n",
       "        [ 0,  0,  5, 13],\n",
       "        [ 0,  5, 13, 13],\n",
       "        [ 5, 13, 13,  1],\n",
       "        [13, 13,  1,  0],\n",
       "        [ 0,  0,  0, 15],\n",
       "        [ 0,  0, 15, 12],\n",
       "        [ 0, 15, 12,  9],\n",
       "        [15, 12,  9, 22],\n",
       "        [12,  9, 22,  9]], dtype=torch.int32)"
      ]
     },
     "execution_count": 199,
     "metadata": {},
     "output_type": "execute_result"
    }
   ],
   "source": [
    "ids = torch.zeros(len(ds), context + 1, dtype=torch.int)\n",
    "for i, (x, y) in enumerate(ds):\n",
    "    ids[i, 0:context] = torch.tensor(list(map(lambda c: ctoi[c],x)))\n",
    "    ids[i, context] = ctoi[y]\n",
    "\n",
    "ids[:10]"
   ]
  },
  {
   "cell_type": "code",
   "execution_count": 210,
   "metadata": {},
   "outputs": [],
   "source": [
    "E.requires_grad_()\n",
    "\n",
    "nh = 100\n",
    "Wh = torch.randn(context*emb_dims, nh, requires_grad=True)\n",
    "Bh = torch.randn(nh, requires_grad=True)\n",
    "\n",
    "no = len(vocab)\n",
    "Wo = torch.randn(nh, no, requires_grad=True)\n",
    "Bo = torch.randn(no, requires_grad=True)\n",
    "\n",
    "params = [E, Wh, Bh, Wo, Bo]"
   ]
  },
  {
   "cell_type": "code",
   "execution_count": 251,
   "metadata": {},
   "outputs": [
    {
     "data": {
      "text/plain": [
       "tensor([[ 0,  0,  0,  5],\n",
       "        [ 0,  0,  5, 13],\n",
       "        [ 0,  5, 13, 13],\n",
       "        ...,\n",
       "        [26, 26, 25, 26],\n",
       "        [26, 25, 26, 24],\n",
       "        [25, 26, 24,  0]], dtype=torch.int32)"
      ]
     },
     "execution_count": 251,
     "metadata": {},
     "output_type": "execute_result"
    }
   ],
   "source": [
    "ids"
   ]
  },
  {
   "cell_type": "code",
   "execution_count": null,
   "metadata": {},
   "outputs": [],
   "source": []
  },
  {
   "cell_type": "code",
   "execution_count": 264,
   "metadata": {},
   "outputs": [],
   "source": [
    "import torch.nn.functional as F"
   ]
  },
  {
   "cell_type": "code",
   "execution_count": 272,
   "metadata": {},
   "outputs": [
    {
     "data": {
      "text/plain": [
       "torch.Size([228146, 4, 27])"
      ]
     },
     "execution_count": 272,
     "metadata": {},
     "output_type": "execute_result"
    }
   ],
   "source": [
    "ods = F.one_hot(ids.long(), 27)\n",
    "ods.shape"
   ]
  },
  {
   "cell_type": "code",
   "execution_count": 548,
   "metadata": {},
   "outputs": [],
   "source": [
    "ntr = int(len(ods) * 0.8)\n",
    "nval = int(len(ods) * 0.9)\n",
    "idx = torch.randint(0, len(ods), (len(ods),))\n",
    "\n",
    "tr_ds = ods[idx[:ntr]]\n",
    "val_ds = ods[idx[ntr:nval]]\n",
    "test_ds = ods[idx[nval:]]\n",
    "\n",
    "assert sum(list(map(len, [tr_ds, val_ds, test_ds]))) == len(ods)"
   ]
  },
  {
   "cell_type": "code",
   "execution_count": 551,
   "metadata": {},
   "outputs": [],
   "source": [
    "def get_batches(bs, ds):\n",
    "    b = ds[torch.randint(0, len(ds), size=(bs,))].float()\n",
    "\n",
    "    xb = b[:, 0:context]\n",
    "    yb = b[:, context]\n",
    "\n",
    "    return xb, yb"
   ]
  },
  {
   "cell_type": "code",
   "execution_count": 552,
   "metadata": {},
   "outputs": [],
   "source": [
    "def forward(bs, xb):\n",
    "    ae = (xb @ E).view(bs, -1)\n",
    "    ah = (ae @ Wh + Bh).tanh()\n",
    "    ao = ah @ Wo + Bo\n",
    "    \n",
    "    return ao"
   ]
  },
  {
   "cell_type": "code",
   "execution_count": 553,
   "metadata": {},
   "outputs": [],
   "source": [
    "def optimize():\n",
    "    for param in params:\n",
    "        param.data -= param.grad * 0.001\n",
    "        param.grad = None"
   ]
  },
  {
   "cell_type": "code",
   "execution_count": 557,
   "metadata": {},
   "outputs": [
    {
     "name": "stdout",
     "output_type": "stream",
     "text": [
      "Tr: 2.63 | Val: 2.04\n",
      "Tr: 2.39 | Val: 2.28\n",
      "Tr: 2.28 | Val: 2.80\n",
      "Tr: 2.51 | Val: 2.15\n",
      "Tr: 2.31 | Val: 2.23\n",
      "Tr: 2.22 | Val: 2.22\n",
      "Tr: 2.31 | Val: 2.27\n",
      "Tr: 2.33 | Val: 2.19\n",
      "Tr: 2.26 | Val: 2.05\n",
      "Tr: 1.86 | Val: 2.32\n"
     ]
    }
   ],
   "source": [
    "bs = 64\n",
    "\n",
    "for i in range(10000):\n",
    "    # Train\n",
    "    xb, yb = get_batches(bs, tr_ds)\n",
    "    z = forward(bs, xb)\n",
    "    tr_loss = F.cross_entropy(z, yb)\n",
    "    tr_loss.backward()\n",
    "    optimize()\n",
    "\n",
    "    # Eval\n",
    "    xb, yb = get_batches(bs, val_ds)\n",
    "    with torch.no_grad(): \n",
    "        z = forward(bs, xb)\n",
    "        val_loss = F.cross_entropy(z, yb)\n",
    "    \n",
    "    # Report\n",
    "    if i % 1000 == 0: print(f\"Tr: {tr_loss:.2f} | Val: {val_loss:.2f}\")\n",
    "    \n"
   ]
  },
  {
   "cell_type": "code",
   "execution_count": 561,
   "metadata": {},
   "outputs": [
    {
     "name": "stdout",
     "output_type": "stream",
     "text": [
      "Test loss is 2.27\n"
     ]
    }
   ],
   "source": [
    "bs = len(test_ds)\n",
    "x_test, y_test = get_batches(bs, test_ds)\n",
    "\n",
    "print(f\"Test loss is {F.cross_entropy(forward(bs, x_test), y_test):.2f}\")"
   ]
  },
  {
   "cell_type": "code",
   "execution_count": 246,
   "metadata": {},
   "outputs": [
    {
     "data": {
      "text/plain": [
       "'\\nRun each char through the embedding\\nGet 6 numbers\\nRun through the hidden layer, e.g. 100 neurons\\nActivate hidden layer by tanh\\nRun through the output layer\\n'"
      ]
     },
     "execution_count": 246,
     "metadata": {},
     "output_type": "execute_result"
    }
   ],
   "source": [
    "\"\"\"\n",
    "Run each char through the embedding\n",
    "Get 6 numbers\n",
    "Run through the hidden layer, e.g. 100 neurons\n",
    "Activate hidden layer by tanh\n",
    "Run through the output layer\n",
    "\"\"\""
   ]
  },
  {
   "cell_type": "code",
   "execution_count": 89,
   "metadata": {},
   "outputs": [
    {
     "data": {
      "text/plain": [
       "[('.', '.', 'i', 'n', 'o', '.', '.', '.', '.', 'h'),\n",
       " ('.', '.', 'e', 'e', 'r', 'c', 's', 'a', 't', 'a'),\n",
       " ('.', 'c', 'l', 'l', 't', 'h', 'h', 'a', 'r', 'a')]"
      ]
     },
     "execution_count": 89,
     "metadata": {},
     "output_type": "execute_result"
    }
   ],
   "source": [
    "list(zip(*b['x'][:10]))"
   ]
  },
  {
   "cell_type": "code",
   "execution_count": null,
   "metadata": {},
   "outputs": [],
   "source": []
  }
 ],
 "metadata": {
  "kernelspec": {
   "display_name": ".venv",
   "language": "python",
   "name": "python3"
  },
  "language_info": {
   "codemirror_mode": {
    "name": "ipython",
    "version": 3
   },
   "file_extension": ".py",
   "mimetype": "text/x-python",
   "name": "python",
   "nbconvert_exporter": "python",
   "pygments_lexer": "ipython3",
   "version": "3.10.11"
  }
 },
 "nbformat": 4,
 "nbformat_minor": 2
}
