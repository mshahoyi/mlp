{
 "cells": [
  {
   "cell_type": "markdown",
   "metadata": {},
   "source": [
    "# Get data"
   ]
  },
  {
   "cell_type": "code",
   "execution_count": 851,
   "metadata": {},
   "outputs": [],
   "source": [
    "import torch, numpy as np, matplotlib.pyplot as plt, seaborn as sns"
   ]
  },
  {
   "cell_type": "code",
   "execution_count": 852,
   "metadata": {},
   "outputs": [
    {
     "data": {
      "text/plain": [
       "['emma', 'olivia', 'ava', 'isabella', 'sophia']"
      ]
     },
     "execution_count": 852,
     "metadata": {},
     "output_type": "execute_result"
    }
   ],
   "source": [
    "names = open(\"names.txt\").read().splitlines()\n",
    "names[:5]"
   ]
  },
  {
   "cell_type": "markdown",
   "metadata": {},
   "source": [
    "# Create dataset"
   ]
  },
  {
   "cell_type": "code",
   "execution_count": 853,
   "metadata": {},
   "outputs": [],
   "source": [
    "context = 3"
   ]
  },
  {
   "cell_type": "code",
   "execution_count": 854,
   "metadata": {},
   "outputs": [
    {
     "data": {
      "text/plain": [
       "[(('.', '.', '.'), 'e'),\n",
       " (('.', '.', 'e'), 'm'),\n",
       " (('.', 'e', 'm'), 'm'),\n",
       " (('e', 'm', 'm'), 'a'),\n",
       " (('m', 'm', 'a'), '.'),\n",
       " (('.', '.', '.'), 'o'),\n",
       " (('.', '.', 'o'), 'l'),\n",
       " (('.', 'o', 'l'), 'i'),\n",
       " (('o', 'l', 'i'), 'v'),\n",
       " (('l', 'i', 'v'), 'i'),\n",
       " (('i', 'v', 'i'), 'a'),\n",
       " (('v', 'i', 'a'), '.'),\n",
       " (('.', '.', '.'), 'a'),\n",
       " (('.', '.', 'a'), 'v'),\n",
       " (('.', 'a', 'v'), 'a')]"
      ]
     },
     "execution_count": 854,
     "metadata": {},
     "output_type": "execute_result"
    }
   ],
   "source": [
    "import pdb\n",
    "\n",
    "ds = []\n",
    "for name in names:\n",
    "    n = '.'*context + name + '.'\n",
    "    tuples = list(zip(*list(n[i:] for i in range(context + 1))))\n",
    "    ds.extend(list(map(lambda tup: (tup[0:context], tup[context]), tuples)))\n",
    "\n",
    "ds[:15]"
   ]
  },
  {
   "cell_type": "markdown",
   "metadata": {},
   "source": [
    "# Vocab"
   ]
  },
  {
   "cell_type": "code",
   "execution_count": 855,
   "metadata": {},
   "outputs": [
    {
     "data": {
      "text/plain": [
       "['.',\n",
       " 'a',\n",
       " 'b',\n",
       " 'c',\n",
       " 'd',\n",
       " 'e',\n",
       " 'f',\n",
       " 'g',\n",
       " 'h',\n",
       " 'i',\n",
       " 'j',\n",
       " 'k',\n",
       " 'l',\n",
       " 'm',\n",
       " 'n',\n",
       " 'o',\n",
       " 'p',\n",
       " 'q',\n",
       " 'r',\n",
       " 's',\n",
       " 't',\n",
       " 'u',\n",
       " 'v',\n",
       " 'w',\n",
       " 'x',\n",
       " 'y',\n",
       " 'z']"
      ]
     },
     "execution_count": 855,
     "metadata": {},
     "output_type": "execute_result"
    }
   ],
   "source": [
    "vocab = sorted(set('.'.join(names)))\n",
    "vocab"
   ]
  },
  {
   "cell_type": "code",
   "execution_count": 856,
   "metadata": {},
   "outputs": [],
   "source": [
    "ctoi = {c: i for i, c in enumerate(vocab)}\n",
    "itoc = {i: c for c, i in ctoi.items() }"
   ]
  },
  {
   "cell_type": "markdown",
   "metadata": {},
   "source": [
    "# Embedding"
   ]
  },
  {
   "cell_type": "code",
   "execution_count": 857,
   "metadata": {},
   "outputs": [
    {
     "data": {
      "text/plain": [
       "torch.Size([27, 10])"
      ]
     },
     "execution_count": 857,
     "metadata": {},
     "output_type": "execute_result"
    }
   ],
   "source": [
    "emb_dims = 10\n",
    "E = torch.randn(len(vocab), emb_dims)\n",
    "E.shape"
   ]
  },
  {
   "cell_type": "code",
   "execution_count": 858,
   "metadata": {},
   "outputs": [
    {
     "data": {
      "image/png": "[encoded data removed]",
      "text/plain": [
       "<Figure size 640x480 with 1 Axes>"
      ]
     },
     "metadata": {},
     "output_type": "display_data"
    }
   ],
   "source": [
    "def vis_emb():\n",
    "    cp = E.detach().numpy()\n",
    "    plt.scatter(cp[:, 0], cp[:, 1], s=200, alpha=0.8)\n",
    "\n",
    "    for char in vocab:\n",
    "        i = ctoi[char]\n",
    "        plt.text(cp[i, 0], cp[i, 1], char, va=\"center\", ha=\"center\", color=\"white\")\n",
    "\n",
    "vis_emb()"
   ]
  },
  {
   "cell_type": "code",
   "execution_count": 859,
   "metadata": {},
   "outputs": [
    {
     "data": {
      "text/plain": [
       "tensor([[ 0,  0,  0,  5],\n",
       "        [ 0,  0,  5, 13],\n",
       "        [ 0,  5, 13, 13],\n",
       "        [ 5, 13, 13,  1],\n",
       "        [13, 13,  1,  0],\n",
       "        [ 0,  0,  0, 15],\n",
       "        [ 0,  0, 15, 12],\n",
       "        [ 0, 15, 12,  9],\n",
       "        [15, 12,  9, 22],\n",
       "        [12,  9, 22,  9]], dtype=torch.int32)"
      ]
     },
     "execution_count": 859,
     "metadata": {},
     "output_type": "execute_result"
    }
   ],
   "source": [
    "ids = torch.zeros(len(ds), context + 1, dtype=torch.int)\n",
    "for i, (x, y) in enumerate(ds):\n",
    "    ids[i, 0:context] = torch.tensor(list(map(lambda c: ctoi[c],x)))\n",
    "    ids[i, context] = ctoi[y]\n",
    "\n",
    "ids[:10]"
   ]
  },
  {
   "cell_type": "markdown",
   "metadata": {},
   "source": [
    "# Initialization"
   ]
  },
  {
   "cell_type": "code",
   "execution_count": 878,
   "metadata": {},
   "outputs": [],
   "source": [
    "nh = 200\n",
    "Wh = torch.randn(context*emb_dims, nh)\n",
    "Bh = torch.zeros(nh)\n",
    "\n",
    "no = len(vocab)\n",
    "Wo = torch.randn(nh, no) * 0.1 \n",
    "Bo = torch.zeros(no)\n",
    "\n",
    "\n",
    "\n",
    "params = [E, Wh, Bh, Wo, Bo]\n",
    "for  param in params: param.requires_grad_()"
   ]
  },
  {
   "cell_type": "code",
   "execution_count": 879,
   "metadata": {},
   "outputs": [],
   "source": [
    "import torch.nn.functional as F"
   ]
  },
  {
   "cell_type": "code",
   "execution_count": 880,
   "metadata": {},
   "outputs": [
    {
     "data": {
      "text/plain": [
       "torch.Size([228146, 4, 27])"
      ]
     },
     "execution_count": 880,
     "metadata": {},
     "output_type": "execute_result"
    }
   ],
   "source": [
    "ods = F.one_hot(ids.long(), 27)\n",
    "ods.shape"
   ]
  },
  {
   "cell_type": "code",
   "execution_count": 881,
   "metadata": {},
   "outputs": [],
   "source": [
    "ntr = int(len(ods) * 0.8)\n",
    "nval = int(len(ods) * 0.9)\n",
    "idx = torch.randint(0, len(ods), (len(ods),))\n",
    "\n",
    "tr_ds = ods[idx[:ntr]]\n",
    "val_ds = ods[idx[ntr:nval]]\n",
    "test_ds = ods[idx[nval:]]\n",
    "\n",
    "assert sum(list(map(len, [tr_ds, val_ds, test_ds]))) == len(ods)"
   ]
  },
  {
   "cell_type": "markdown",
   "metadata": {},
   "source": [
    "# Training"
   ]
  },
  {
   "cell_type": "code",
   "execution_count": 882,
   "metadata": {},
   "outputs": [],
   "source": [
    "def get_batches(bs, ds):\n",
    "    b = ds[torch.randint(0, len(ds), size=(bs,))].float()\n",
    "\n",
    "    xb = b[:, 0:context]\n",
    "    yb = b[:, context]\n",
    "\n",
    "    return xb, yb"
   ]
  },
  {
   "cell_type": "code",
   "execution_count": 883,
   "metadata": {},
   "outputs": [],
   "source": [
    "def forward(bs, xb):\n",
    "    ae = (xb @ E).view(bs, -1)\n",
    "    ah = (ae @ Wh + Bh).tanh()\n",
    "    ao = ah @ Wo + Bo\n",
    "    \n",
    "    return ao"
   ]
  },
  {
   "cell_type": "code",
   "execution_count": 884,
   "metadata": {},
   "outputs": [],
   "source": [
    "def optimize(lr):\n",
    "    for param in params:\n",
    "        param.data -= param.grad * lr\n",
    "        param.grad = None"
   ]
  },
  {
   "cell_type": "code",
   "execution_count": 885,
   "metadata": {},
   "outputs": [],
   "source": [
    "tr_losses = []\n",
    "val_losses = []"
   ]
  },
  {
   "cell_type": "code",
   "execution_count": 894,
   "metadata": {},
   "outputs": [
    {
     "name": "stdout",
     "output_type": "stream",
     "text": [
      "Tr: 2.09 | Val: 2.17\n",
      "Tr: 2.06 | Val: 2.15\n",
      "Tr: 2.13 | Val: 2.17\n",
      "Tr: 2.16 | Val: 2.16\n",
      "Tr: 2.08 | Val: 2.17\n",
      "Tr: 2.14 | Val: 2.17\n",
      "Tr: 2.02 | Val: 2.16\n",
      "Tr: 2.06 | Val: 2.16\n",
      "Tr: 2.10 | Val: 2.17\n",
      "Tr: 2.08 | Val: 2.18\n",
      "Tr: 2.07 | Val: 2.15\n",
      "Tr: 2.09 | Val: 2.16\n",
      "Tr: 2.07 | Val: 2.17\n",
      "Tr: 2.12 | Val: 2.17\n",
      "Tr: 2.05 | Val: 2.16\n",
      "Tr: 2.06 | Val: 2.16\n",
      "Tr: 2.12 | Val: 2.16\n",
      "Tr: 2.10 | Val: 2.16\n",
      "Tr: 2.13 | Val: 2.16\n",
      "Tr: 2.10 | Val: 2.16\n",
      "Tr: 2.18 | Val: 2.17\n",
      "Tr: 2.11 | Val: 2.16\n",
      "Tr: 2.08 | Val: 2.16\n",
      "Tr: 2.09 | Val: 2.16\n",
      "Tr: 2.05 | Val: 2.17\n",
      "Tr: 2.04 | Val: 2.16\n",
      "Tr: 2.06 | Val: 2.17\n",
      "Tr: 2.08 | Val: 2.16\n",
      "Tr: 2.12 | Val: 2.16\n",
      "Tr: 2.20 | Val: 2.15\n",
      "Tr: 2.14 | Val: 2.18\n",
      "Tr: 2.23 | Val: 2.16\n",
      "Tr: 2.12 | Val: 2.16\n",
      "Tr: 2.12 | Val: 2.17\n",
      "Tr: 2.04 | Val: 2.17\n",
      "Tr: 2.16 | Val: 2.16\n",
      "Tr: 2.05 | Val: 2.15\n",
      "Tr: 2.06 | Val: 2.17\n",
      "Tr: 1.99 | Val: 2.16\n",
      "Tr: 2.08 | Val: 2.15\n",
      "Tr: 2.13 | Val: 2.15\n",
      "Tr: 2.14 | Val: 2.17\n",
      "Tr: 2.09 | Val: 2.16\n",
      "Tr: 2.14 | Val: 2.16\n",
      "Tr: 2.13 | Val: 2.15\n",
      "Tr: 2.10 | Val: 2.15\n",
      "Tr: 2.01 | Val: 2.16\n",
      "Tr: 2.09 | Val: 2.14\n",
      "Tr: 2.17 | Val: 2.16\n",
      "Tr: 2.12 | Val: 2.15\n",
      "Tr: 2.15 | Val: 2.15\n",
      "Tr: 2.13 | Val: 2.16\n",
      "Tr: 2.09 | Val: 2.15\n",
      "Tr: 2.10 | Val: 2.14\n",
      "Tr: 2.15 | Val: 2.15\n",
      "Tr: 2.02 | Val: 2.16\n",
      "Tr: 2.12 | Val: 2.17\n",
      "Tr: 2.11 | Val: 2.15\n",
      "Tr: 2.03 | Val: 2.15\n",
      "Tr: 2.10 | Val: 2.15\n",
      "Tr: 2.06 | Val: 2.16\n",
      "Tr: 2.14 | Val: 2.15\n",
      "Tr: 2.12 | Val: 2.15\n",
      "Tr: 2.04 | Val: 2.15\n",
      "Tr: 2.10 | Val: 2.15\n",
      "Tr: 2.02 | Val: 2.14\n",
      "Tr: 2.07 | Val: 2.15\n",
      "Tr: 2.07 | Val: 2.15\n",
      "Tr: 2.11 | Val: 2.16\n",
      "Tr: 2.08 | Val: 2.15\n",
      "Tr: 2.00 | Val: 2.14\n",
      "Tr: 2.03 | Val: 2.16\n",
      "Tr: 2.08 | Val: 2.15\n",
      "Tr: 2.05 | Val: 2.16\n",
      "Tr: 2.01 | Val: 2.15\n",
      "Tr: 2.07 | Val: 2.16\n",
      "Tr: 2.06 | Val: 2.15\n",
      "Tr: 2.10 | Val: 2.14\n",
      "Tr: 2.08 | Val: 2.14\n",
      "Tr: 2.10 | Val: 2.14\n",
      "Tr: 2.18 | Val: 2.16\n",
      "Tr: 2.11 | Val: 2.14\n",
      "Tr: 2.04 | Val: 2.14\n",
      "Tr: 2.06 | Val: 2.16\n",
      "Tr: 2.08 | Val: 2.15\n",
      "Tr: 2.06 | Val: 2.15\n",
      "Tr: 2.06 | Val: 2.15\n",
      "Tr: 2.16 | Val: 2.15\n",
      "Tr: 2.06 | Val: 2.14\n",
      "Tr: 2.08 | Val: 2.14\n"
     ]
    }
   ],
   "source": [
    "bs = 128*8\n",
    "itr = 30000*3\n",
    "rfq = 1000\n",
    "\n",
    "\n",
    "for i in range(itr):\n",
    "    # Train\n",
    "    xb, yb = get_batches(bs, tr_ds)\n",
    "    z = forward(bs, xb)\n",
    "    tr_loss = F.cross_entropy(z, yb)\n",
    "    tr_loss.backward()\n",
    "    optimize(0.01)\n",
    "\n",
    "    \n",
    "    # Eval\n",
    "    if i % rfq == 0: \n",
    "        val_bs = len(val_ds)\n",
    "        xb, yb = get_batches(val_bs, val_ds)\n",
    "        with torch.no_grad(): \n",
    "            z = forward(val_bs, xb)\n",
    "            val_loss = F.cross_entropy(z, yb)\n",
    "\n",
    "        # Report\n",
    "        print(f\"Tr: {tr_loss:.2f} | Val: {val_loss:.2f}\")\n",
    "        tr_losses.append(tr_loss.item())\n",
    "        val_losses.append(val_loss.item())"
   ]
  },
  {
   "cell_type": "code",
   "execution_count": 895,
   "metadata": {},
   "outputs": [
    {
     "data": {
      "text/plain": [
       "<matplotlib.legend.Legend at 0x12ab36a10>"
      ]
     },
     "execution_count": 895,
     "metadata": {},
     "output_type": "execute_result"
    },
    {
     "data": {
      "image/png": "[encoded data removed]",
      "text/plain": [
       "<Figure size 640x480 with 1 Axes>"
      ]
     },
     "metadata": {},
     "output_type": "display_data"
    }
   ],
   "source": [
    "x = np.arange(0, len(tr_losses))\n",
    "l1, l2 = plt.plot(x, tr_losses, x, val_losses)\n",
    "plt.ylim(2,3)\n",
    "l1.set_label(\"train loss\")\n",
    "l2.set_label(\"val loss\")\n",
    "\n",
    "plt.legend()\n"
   ]
  },
  {
   "cell_type": "code",
   "execution_count": 896,
   "metadata": {},
   "outputs": [
    {
     "name": "stdout",
     "output_type": "stream",
     "text": [
      "Test loss is 2.13\n"
     ]
    }
   ],
   "source": [
    "bs = len(test_ds)\n",
    "x_test, y_test = get_batches(bs, test_ds)\n",
    "\n",
    "print(f\"Test loss is {F.cross_entropy(forward(bs, x_test), y_test):.2f}\")"
   ]
  },
  {
   "cell_type": "code",
   "execution_count": 897,
   "metadata": {},
   "outputs": [
    {
     "data": {
      "text/plain": [
       "['roy',\n",
       " 'ree',\n",
       " 'steya',\n",
       " 'khitzen',\n",
       " 'iyvanna',\n",
       " 'keniyn',\n",
       " 'abatraalin',\n",
       " 'brine',\n",
       " 'holleodon',\n",
       " 'jesci',\n",
       " 'brentlonnelynn',\n",
       " 'samaralyn',\n",
       " 'srimayt',\n",
       " 'remils',\n",
       " 'rebwenecdin',\n",
       " 'jawy',\n",
       " 'vallinley',\n",
       " 'roshiko',\n",
       " 'alwve',\n",
       " 'zrolexane']"
      ]
     },
     "execution_count": 897,
     "metadata": {},
     "output_type": "execute_result"
    }
   ],
   "source": [
    "gen = []\n",
    "\n",
    "for i in range(20):\n",
    "    res = []\n",
    "    input = torch.tensor(list(map(int, context*'0')))\n",
    "\n",
    "    while True:\n",
    "        z = forward(1, F.one_hot(input, len(vocab)).float())\n",
    "        predi = torch.multinomial(F.softmax(z, dim=1), 1).squeeze()\n",
    "        predc = itoc[predi.item()]\n",
    "\n",
    "        if predc == '.': break\n",
    "\n",
    "        res.append(predc)\n",
    "        input = torch.concat([input[1:], predi[None]])\n",
    "\n",
    "    gen.append(''.join(res))\n",
    "\n",
    "gen"
   ]
  },
  {
   "cell_type": "code",
   "execution_count": null,
   "metadata": {},
   "outputs": [],
   "source": []
  }
 ],
 "metadata": {
  "kernelspec": {
   "display_name": ".venv",
   "language": "python",
   "name": "python3"
  },
  "language_info": {
   "codemirror_mode": {
    "name": "ipython",
    "version": 3
   },
   "file_extension": ".py",
   "mimetype": "text/x-python",
   "name": "python",
   "nbconvert_exporter": "python",
   "pygments_lexer": "ipython3",
   "version": "3.10.11"
  }
 },
 "nbformat": 4,
 "nbformat_minor": 2
}
